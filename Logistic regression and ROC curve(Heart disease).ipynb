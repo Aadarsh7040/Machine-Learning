{
 "cells": [
  {
   "cell_type": "markdown",
   "id": "ed3a52a1",
   "metadata": {},
   "source": [
    "# import libraries"
   ]
  },
  {
   "cell_type": "code",
   "execution_count": 1,
   "id": "493e9b1b",
   "metadata": {},
   "outputs": [],
   "source": [
    "import numpy as np\n",
    "import pandas as pd\n",
    "\n",
    "import seaborn as sns\n",
    "import matplotlib.pyplot as plt\n",
    "\n",
    "from sklearn.linear_model import LogisticRegression\n",
    "from sklearn.model_selection import train_test_split\n",
    "from sklearn.metrics import confusion_matrix,plot_confusion_matrix,accuracy_score,classification_report,roc_curve\n",
    "\n",
    "import warnings\n",
    "warnings.filterwarnings('ignore')"
   ]
  },
  {
   "cell_type": "markdown",
   "id": "cbe13d12",
   "metadata": {},
   "source": [
    "# 1.Problem statement"
   ]
  },
  {
   "cell_type": "markdown",
   "id": "0370fa7d",
   "metadata": {},
   "source": [
    "To predict whether the patient is having heart disease or not"
   ]
  },
  {
   "cell_type": "markdown",
   "id": "4b59fa13",
   "metadata": {},
   "source": [
    "# 2. Read the data"
   ]
  },
  {
   "cell_type": "code",
   "execution_count": 2,
   "id": "4d17ee0b",
   "metadata": {},
   "outputs": [
    {
     "data": {
      "text/html": [
       "<div>\n",
       "<style scoped>\n",
       "    .dataframe tbody tr th:only-of-type {\n",
       "        vertical-align: middle;\n",
       "    }\n",
       "\n",
       "    .dataframe tbody tr th {\n",
       "        vertical-align: top;\n",
       "    }\n",
       "\n",
       "    .dataframe thead th {\n",
       "        text-align: right;\n",
       "    }\n",
       "</style>\n",
       "<table border=\"1\" class=\"dataframe\">\n",
       "  <thead>\n",
       "    <tr style=\"text-align: right;\">\n",
       "      <th></th>\n",
       "      <th>age</th>\n",
       "      <th>sex</th>\n",
       "      <th>cp</th>\n",
       "      <th>trestbps</th>\n",
       "      <th>chol</th>\n",
       "      <th>fbs</th>\n",
       "      <th>restecg</th>\n",
       "      <th>thalach</th>\n",
       "      <th>exang</th>\n",
       "      <th>oldpeak</th>\n",
       "      <th>slope</th>\n",
       "      <th>ca</th>\n",
       "      <th>thal</th>\n",
       "      <th>target</th>\n",
       "    </tr>\n",
       "  </thead>\n",
       "  <tbody>\n",
       "    <tr>\n",
       "      <th>0</th>\n",
       "      <td>63</td>\n",
       "      <td>1</td>\n",
       "      <td>3</td>\n",
       "      <td>145</td>\n",
       "      <td>233</td>\n",
       "      <td>1</td>\n",
       "      <td>0</td>\n",
       "      <td>150</td>\n",
       "      <td>0</td>\n",
       "      <td>2.3</td>\n",
       "      <td>0</td>\n",
       "      <td>0</td>\n",
       "      <td>1</td>\n",
       "      <td>1</td>\n",
       "    </tr>\n",
       "    <tr>\n",
       "      <th>1</th>\n",
       "      <td>37</td>\n",
       "      <td>1</td>\n",
       "      <td>2</td>\n",
       "      <td>130</td>\n",
       "      <td>250</td>\n",
       "      <td>0</td>\n",
       "      <td>1</td>\n",
       "      <td>187</td>\n",
       "      <td>0</td>\n",
       "      <td>3.5</td>\n",
       "      <td>0</td>\n",
       "      <td>0</td>\n",
       "      <td>2</td>\n",
       "      <td>1</td>\n",
       "    </tr>\n",
       "    <tr>\n",
       "      <th>2</th>\n",
       "      <td>41</td>\n",
       "      <td>0</td>\n",
       "      <td>1</td>\n",
       "      <td>130</td>\n",
       "      <td>204</td>\n",
       "      <td>0</td>\n",
       "      <td>0</td>\n",
       "      <td>172</td>\n",
       "      <td>0</td>\n",
       "      <td>1.4</td>\n",
       "      <td>2</td>\n",
       "      <td>0</td>\n",
       "      <td>2</td>\n",
       "      <td>1</td>\n",
       "    </tr>\n",
       "    <tr>\n",
       "      <th>3</th>\n",
       "      <td>56</td>\n",
       "      <td>1</td>\n",
       "      <td>1</td>\n",
       "      <td>120</td>\n",
       "      <td>236</td>\n",
       "      <td>0</td>\n",
       "      <td>1</td>\n",
       "      <td>178</td>\n",
       "      <td>0</td>\n",
       "      <td>0.8</td>\n",
       "      <td>2</td>\n",
       "      <td>0</td>\n",
       "      <td>2</td>\n",
       "      <td>1</td>\n",
       "    </tr>\n",
       "    <tr>\n",
       "      <th>4</th>\n",
       "      <td>57</td>\n",
       "      <td>0</td>\n",
       "      <td>0</td>\n",
       "      <td>120</td>\n",
       "      <td>354</td>\n",
       "      <td>0</td>\n",
       "      <td>1</td>\n",
       "      <td>163</td>\n",
       "      <td>1</td>\n",
       "      <td>0.6</td>\n",
       "      <td>2</td>\n",
       "      <td>0</td>\n",
       "      <td>2</td>\n",
       "      <td>1</td>\n",
       "    </tr>\n",
       "    <tr>\n",
       "      <th>...</th>\n",
       "      <td>...</td>\n",
       "      <td>...</td>\n",
       "      <td>...</td>\n",
       "      <td>...</td>\n",
       "      <td>...</td>\n",
       "      <td>...</td>\n",
       "      <td>...</td>\n",
       "      <td>...</td>\n",
       "      <td>...</td>\n",
       "      <td>...</td>\n",
       "      <td>...</td>\n",
       "      <td>...</td>\n",
       "      <td>...</td>\n",
       "      <td>...</td>\n",
       "    </tr>\n",
       "    <tr>\n",
       "      <th>298</th>\n",
       "      <td>57</td>\n",
       "      <td>0</td>\n",
       "      <td>0</td>\n",
       "      <td>140</td>\n",
       "      <td>241</td>\n",
       "      <td>0</td>\n",
       "      <td>1</td>\n",
       "      <td>123</td>\n",
       "      <td>1</td>\n",
       "      <td>0.2</td>\n",
       "      <td>1</td>\n",
       "      <td>0</td>\n",
       "      <td>3</td>\n",
       "      <td>0</td>\n",
       "    </tr>\n",
       "    <tr>\n",
       "      <th>299</th>\n",
       "      <td>45</td>\n",
       "      <td>1</td>\n",
       "      <td>3</td>\n",
       "      <td>110</td>\n",
       "      <td>264</td>\n",
       "      <td>0</td>\n",
       "      <td>1</td>\n",
       "      <td>132</td>\n",
       "      <td>0</td>\n",
       "      <td>1.2</td>\n",
       "      <td>1</td>\n",
       "      <td>0</td>\n",
       "      <td>3</td>\n",
       "      <td>0</td>\n",
       "    </tr>\n",
       "    <tr>\n",
       "      <th>300</th>\n",
       "      <td>68</td>\n",
       "      <td>1</td>\n",
       "      <td>0</td>\n",
       "      <td>144</td>\n",
       "      <td>193</td>\n",
       "      <td>1</td>\n",
       "      <td>1</td>\n",
       "      <td>141</td>\n",
       "      <td>0</td>\n",
       "      <td>3.4</td>\n",
       "      <td>1</td>\n",
       "      <td>2</td>\n",
       "      <td>3</td>\n",
       "      <td>0</td>\n",
       "    </tr>\n",
       "    <tr>\n",
       "      <th>301</th>\n",
       "      <td>57</td>\n",
       "      <td>1</td>\n",
       "      <td>0</td>\n",
       "      <td>130</td>\n",
       "      <td>131</td>\n",
       "      <td>0</td>\n",
       "      <td>1</td>\n",
       "      <td>115</td>\n",
       "      <td>1</td>\n",
       "      <td>1.2</td>\n",
       "      <td>1</td>\n",
       "      <td>1</td>\n",
       "      <td>3</td>\n",
       "      <td>0</td>\n",
       "    </tr>\n",
       "    <tr>\n",
       "      <th>302</th>\n",
       "      <td>57</td>\n",
       "      <td>0</td>\n",
       "      <td>1</td>\n",
       "      <td>130</td>\n",
       "      <td>236</td>\n",
       "      <td>0</td>\n",
       "      <td>0</td>\n",
       "      <td>174</td>\n",
       "      <td>0</td>\n",
       "      <td>0.0</td>\n",
       "      <td>1</td>\n",
       "      <td>1</td>\n",
       "      <td>2</td>\n",
       "      <td>0</td>\n",
       "    </tr>\n",
       "  </tbody>\n",
       "</table>\n",
       "<p>303 rows × 14 columns</p>\n",
       "</div>"
      ],
      "text/plain": [
       "     age  sex  cp  trestbps  chol  fbs  restecg  thalach  exang  oldpeak  \\\n",
       "0     63    1   3       145   233    1        0      150      0      2.3   \n",
       "1     37    1   2       130   250    0        1      187      0      3.5   \n",
       "2     41    0   1       130   204    0        0      172      0      1.4   \n",
       "3     56    1   1       120   236    0        1      178      0      0.8   \n",
       "4     57    0   0       120   354    0        1      163      1      0.6   \n",
       "..   ...  ...  ..       ...   ...  ...      ...      ...    ...      ...   \n",
       "298   57    0   0       140   241    0        1      123      1      0.2   \n",
       "299   45    1   3       110   264    0        1      132      0      1.2   \n",
       "300   68    1   0       144   193    1        1      141      0      3.4   \n",
       "301   57    1   0       130   131    0        1      115      1      1.2   \n",
       "302   57    0   1       130   236    0        0      174      0      0.0   \n",
       "\n",
       "     slope  ca  thal  target  \n",
       "0        0   0     1       1  \n",
       "1        0   0     2       1  \n",
       "2        2   0     2       1  \n",
       "3        2   0     2       1  \n",
       "4        2   0     2       1  \n",
       "..     ...  ..   ...     ...  \n",
       "298      1   0     3       0  \n",
       "299      1   0     3       0  \n",
       "300      1   2     3       0  \n",
       "301      1   1     3       0  \n",
       "302      1   1     2       0  \n",
       "\n",
       "[303 rows x 14 columns]"
      ]
     },
     "execution_count": 2,
     "metadata": {},
     "output_type": "execute_result"
    }
   ],
   "source": [
    "df = pd.read_csv(\"C:/Users/Aadarsh/OneDrive/Desktop/ETLHive/NOTE'S/ML/Superised ML/Cllasification/heart.csv\")\n",
    "df"
   ]
  },
  {
   "cell_type": "markdown",
   "id": "4f9cf014",
   "metadata": {},
   "source": [
    "# 3.EDA"
   ]
  },
  {
   "cell_type": "code",
   "execution_count": 3,
   "id": "9e19d1b6",
   "metadata": {},
   "outputs": [
    {
     "data": {
      "text/plain": [
       "1    165\n",
       "0    138\n",
       "Name: target, dtype: int64"
      ]
     },
     "execution_count": 3,
     "metadata": {},
     "output_type": "execute_result"
    }
   ],
   "source": [
    "df['target'].value_counts()"
   ]
  },
  {
   "cell_type": "code",
   "execution_count": 4,
   "id": "412bf252",
   "metadata": {},
   "outputs": [
    {
     "data": {
      "text/plain": [
       "<AxesSubplot:xlabel='target', ylabel='count'>"
      ]
     },
     "execution_count": 4,
     "metadata": {},
     "output_type": "execute_result"
    },
    {
     "data": {
      "image/png": "[encoded data removed]",
      "text/plain": [
       "<Figure size 432x288 with 1 Axes>"
      ]
     },
     "metadata": {
      "needs_background": "light"
     },
     "output_type": "display_data"
    }
   ],
   "source": [
    "sns.countplot(df['target'])"
   ]
  },
  {
   "cell_type": "markdown",
   "id": "3fb9015c",
   "metadata": {},
   "source": [
    "# 4.Traintestsplit"
   ]
  },
  {
   "cell_type": "code",
   "execution_count": 5,
   "id": "ddea980f",
   "metadata": {},
   "outputs": [
    {
     "data": {
      "text/plain": [
       "0      1\n",
       "1      1\n",
       "2      1\n",
       "3      1\n",
       "4      1\n",
       "      ..\n",
       "298    0\n",
       "299    0\n",
       "300    0\n",
       "301    0\n",
       "302    0\n",
       "Name: target, Length: 303, dtype: int64"
      ]
     },
     "execution_count": 5,
     "metadata": {},
     "output_type": "execute_result"
    }
   ],
   "source": [
    "x = df.drop('target',axis=1)\n",
    "y = df['target']\n",
    "y"
   ]
  },
  {
   "cell_type": "code",
   "execution_count": 6,
   "id": "429a074a",
   "metadata": {},
   "outputs": [
    {
     "data": {
      "text/plain": [
       "0.5445544554455446"
      ]
     },
     "execution_count": 6,
     "metadata": {},
     "output_type": "execute_result"
    }
   ],
   "source": [
    "165/(138+165)"
   ]
  },
  {
   "cell_type": "code",
   "execution_count": 7,
   "id": "fa1a1201",
   "metadata": {},
   "outputs": [],
   "source": [
    "xtrain,xtest,ytrain,ytest = train_test_split(x,y,test_size=0.25,random_state=35,stratify=y)"
   ]
  },
  {
   "cell_type": "code",
   "execution_count": 8,
   "id": "58a0c6c5",
   "metadata": {},
   "outputs": [
    {
     "data": {
      "text/plain": [
       "1    124\n",
       "0    103\n",
       "Name: target, dtype: int64"
      ]
     },
     "execution_count": 8,
     "metadata": {},
     "output_type": "execute_result"
    }
   ],
   "source": [
    "ytrain.value_counts()"
   ]
  },
  {
   "cell_type": "code",
   "execution_count": 9,
   "id": "c14065f3",
   "metadata": {},
   "outputs": [
    {
     "data": {
      "text/plain": [
       "0.5462555066079295"
      ]
     },
     "execution_count": 9,
     "metadata": {},
     "output_type": "execute_result"
    }
   ],
   "source": [
    "124/(124+103)"
   ]
  },
  {
   "cell_type": "markdown",
   "id": "f3944f6b",
   "metadata": {},
   "source": [
    "# 5. Model building"
   ]
  },
  {
   "cell_type": "code",
   "execution_count": 10,
   "id": "794dd201",
   "metadata": {},
   "outputs": [
    {
     "data": {
      "text/plain": [
       "LogisticRegression()"
      ]
     },
     "execution_count": 10,
     "metadata": {},
     "output_type": "execute_result"
    }
   ],
   "source": [
    "log_clf = LogisticRegression()\n",
    "log_clf.fit(xtrain,ytrain)"
   ]
  },
  {
   "cell_type": "markdown",
   "id": "d8a294d7",
   "metadata": {},
   "source": [
    "# 6. Model evaluation"
   ]
  },
  {
   "cell_type": "code",
   "execution_count": 11,
   "id": "c1699978",
   "metadata": {},
   "outputs": [
    {
     "name": "stdout",
     "output_type": "stream",
     "text": [
      "confusion matrix: \n",
      " [[26  9]\n",
      " [ 6 35]]\n",
      "Confusion Matrix Plot <sklearn.metrics._plot.confusion_matrix.ConfusionMatrixDisplay object at 0x000001983FF1E7C0>\n",
      "Accuracy: 0.8026315789473685\n",
      "classification_report:\n",
      "               precision    recall  f1-score   support\n",
      "\n",
      "           0       0.81      0.74      0.78        35\n",
      "           1       0.80      0.85      0.82        41\n",
      "\n",
      "    accuracy                           0.80        76\n",
      "   macro avg       0.80      0.80      0.80        76\n",
      "weighted avg       0.80      0.80      0.80        76\n",
      "\n"
     ]
    },
    {
     "data": {
      "image/png": "[encoded data removed]",
      "text/plain": [
       "<Figure size 432x288 with 2 Axes>"
      ]
     },
     "metadata": {
      "needs_background": "light"
     },
     "output_type": "display_data"
    }
   ],
   "source": [
    "# Testing data evaluation\n",
    "ypredtest = log_clf.predict(xtest)\n",
    "\n",
    "confusionmatrix = confusion_matrix(ytest,ypredtest)\n",
    "print('confusion matrix: \\n',confusionmatrix)\n",
    "\n",
    "confusionmatrix_plot= plot_confusion_matrix(log_clf,xtest,ytest)\n",
    "print(\"Confusion Matrix Plot\",confusionmatrix_plot)\n",
    "\n",
    "accuracy = accuracy_score(ytest,ypredtest)\n",
    "print('Accuracy:',accuracy)\n",
    "\n",
    "classificationreport = classification_report(ytest,ypredtest)\n",
    "print('classification_report:\\n',classificationreport)"
   ]
  },
  {
   "cell_type": "code",
   "execution_count": 12,
   "id": "9e84294c",
   "metadata": {},
   "outputs": [
    {
     "name": "stdout",
     "output_type": "stream",
     "text": [
      "confusion matrix: \n",
      " [[ 80  23]\n",
      " [ 10 114]]\n",
      "Confusion Matrix Plot <sklearn.metrics._plot.confusion_matrix.ConfusionMatrixDisplay object at 0x00000198433BDA30>\n",
      "Accuracy: 0.8546255506607929\n",
      "classification_report:\n",
      "               precision    recall  f1-score   support\n",
      "\n",
      "           0       0.89      0.78      0.83       103\n",
      "           1       0.83      0.92      0.87       124\n",
      "\n",
      "    accuracy                           0.85       227\n",
      "   macro avg       0.86      0.85      0.85       227\n",
      "weighted avg       0.86      0.85      0.85       227\n",
      "\n"
     ]
    },
    {
     "data": {
      "image/png": "[encoded data removed]",
      "text/plain": [
       "<Figure size 432x288 with 2 Axes>"
      ]
     },
     "metadata": {
      "needs_background": "light"
     },
     "output_type": "display_data"
    }
   ],
   "source": [
    "# Training data evaluation\n",
    "ypredtrain = log_clf.predict(xtrain)\n",
    "\n",
    "confusionmatrix = confusion_matrix(ytrain,ypredtrain)\n",
    "print('confusion matrix: \\n',confusionmatrix)\n",
    "\n",
    "confusionmatrix_plot= plot_confusion_matrix(log_clf,xtrain,ytrain)\n",
    "print(\"Confusion Matrix Plot\",confusionmatrix_plot)\n",
    "\n",
    "\n",
    "accuracy = accuracy_score(ytrain,ypredtrain)\n",
    "print('Accuracy:',accuracy)\n",
    "\n",
    "classificationreport = classification_report(ytrain,ypredtrain)\n",
    "print('classification_report:\\n',classificationreport)"
   ]
  },
  {
   "cell_type": "markdown",
   "id": "47758d9c",
   "metadata": {},
   "source": [
    "# Roc curve"
   ]
  },
  {
   "cell_type": "code",
   "execution_count": 13,
   "id": "9cb589c0",
   "metadata": {},
   "outputs": [
    {
     "data": {
      "text/plain": [
       "array([[0.25819574, 0.74180426],\n",
       "       [0.24448284, 0.75551716],\n",
       "       [0.53864065, 0.46135935],\n",
       "       [0.98565926, 0.01434074],\n",
       "       [0.32247817, 0.67752183],\n",
       "       [0.36831941, 0.63168059],\n",
       "       [0.88061532, 0.11938468],\n",
       "       [0.93925128, 0.06074872],\n",
       "       [0.76792743, 0.23207257],\n",
       "       [0.11053953, 0.88946047],\n",
       "       [0.01513748, 0.98486252],\n",
       "       [0.26658207, 0.73341793],\n",
       "       [0.0750039 , 0.9249961 ],\n",
       "       [0.99513035, 0.00486965],\n",
       "       [0.098274  , 0.901726  ],\n",
       "       [0.0794248 , 0.9205752 ],\n",
       "       [0.81550469, 0.18449531],\n",
       "       [0.12103398, 0.87896602],\n",
       "       [0.03686802, 0.96313198],\n",
       "       [0.05320092, 0.94679908],\n",
       "       [0.95657904, 0.04342096],\n",
       "       [0.42654947, 0.57345053],\n",
       "       [0.53623157, 0.46376843],\n",
       "       [0.60896291, 0.39103709],\n",
       "       [0.98436182, 0.01563818],\n",
       "       [0.12759118, 0.87240882],\n",
       "       [0.26813464, 0.73186536],\n",
       "       [0.04198314, 0.95801686],\n",
       "       [0.87507146, 0.12492854],\n",
       "       [0.02450745, 0.97549255],\n",
       "       [0.99267785, 0.00732215],\n",
       "       [0.95607897, 0.04392103],\n",
       "       [0.07143552, 0.92856448],\n",
       "       [0.56098307, 0.43901693],\n",
       "       [0.12726099, 0.87273901],\n",
       "       [0.63553627, 0.36446373],\n",
       "       [0.36719088, 0.63280912],\n",
       "       [0.27917531, 0.72082469],\n",
       "       [0.98878549, 0.01121451],\n",
       "       [0.96030507, 0.03969493],\n",
       "       [0.17077873, 0.82922127],\n",
       "       [0.17054536, 0.82945464],\n",
       "       [0.84707998, 0.15292002],\n",
       "       [0.13911477, 0.86088523],\n",
       "       [0.56046157, 0.43953843],\n",
       "       [0.04478638, 0.95521362],\n",
       "       [0.06003784, 0.93996216],\n",
       "       [0.98603349, 0.01396651],\n",
       "       [0.91350312, 0.08649688],\n",
       "       [0.96579037, 0.03420963],\n",
       "       [0.23884906, 0.76115094],\n",
       "       [0.09179498, 0.90820502],\n",
       "       [0.95273463, 0.04726537],\n",
       "       [0.24102407, 0.75897593],\n",
       "       [0.37824483, 0.62175517],\n",
       "       [0.09173676, 0.90826324],\n",
       "       [0.0726829 , 0.9273171 ],\n",
       "       [0.40200753, 0.59799247],\n",
       "       [0.98212073, 0.01787927],\n",
       "       [0.09580318, 0.90419682],\n",
       "       [0.26112329, 0.73887671],\n",
       "       [0.36435694, 0.63564306],\n",
       "       [0.32690115, 0.67309885],\n",
       "       [0.92487033, 0.07512967],\n",
       "       [0.99803133, 0.00196867],\n",
       "       [0.15201187, 0.84798813],\n",
       "       [0.89142791, 0.10857209],\n",
       "       [0.02336143, 0.97663857],\n",
       "       [0.11193514, 0.88806486],\n",
       "       [0.0206081 , 0.9793919 ],\n",
       "       [0.08882752, 0.91117248],\n",
       "       [0.96022229, 0.03977771],\n",
       "       [0.55396348, 0.44603652],\n",
       "       [0.41422716, 0.58577284],\n",
       "       [0.51622724, 0.48377276],\n",
       "       [0.94713538, 0.05286462]])"
      ]
     },
     "execution_count": 13,
     "metadata": {},
     "output_type": "execute_result"
    }
   ],
   "source": [
    "ypredprob = log_clf.predict_proba(xtest)\n",
    "ypredprob"
   ]
  },
  {
   "cell_type": "code",
   "execution_count": 14,
   "id": "c891a73d",
   "metadata": {},
   "outputs": [
    {
     "data": {
      "text/plain": [
       "array([1, 1, 0, 0, 1, 1, 0, 0, 0, 1, 1, 1, 1, 0, 1, 1, 0, 1, 1, 1, 0, 1,\n",
       "       0, 0, 0, 1, 1, 1, 0, 1, 0, 0, 1, 0, 1, 0, 1, 1, 0, 0, 1, 1, 0, 1,\n",
       "       0, 1, 1, 0, 0, 0, 1, 1, 0, 1, 1, 1, 1, 1, 0, 1, 1, 1, 1, 0, 0, 1,\n",
       "       0, 1, 1, 1, 1, 0, 0, 1, 0, 0], dtype=int64)"
      ]
     },
     "execution_count": 14,
     "metadata": {},
     "output_type": "execute_result"
    }
   ],
   "source": [
    "ypredtest"
   ]
  },
  {
   "cell_type": "code",
   "execution_count": 15,
   "id": "5f5368d2",
   "metadata": {},
   "outputs": [
    {
     "data": {
      "text/plain": [
       "array([0.74180426, 0.75551716, 0.46135935, 0.01434074, 0.67752183,\n",
       "       0.63168059, 0.11938468, 0.06074872, 0.23207257, 0.88946047,\n",
       "       0.98486252, 0.73341793, 0.9249961 , 0.00486965, 0.901726  ,\n",
       "       0.9205752 , 0.18449531, 0.87896602, 0.96313198, 0.94679908,\n",
       "       0.04342096, 0.57345053, 0.46376843, 0.39103709, 0.01563818,\n",
       "       0.87240882, 0.73186536, 0.95801686, 0.12492854, 0.97549255,\n",
       "       0.00732215, 0.04392103, 0.92856448, 0.43901693, 0.87273901,\n",
       "       0.36446373, 0.63280912, 0.72082469, 0.01121451, 0.03969493,\n",
       "       0.82922127, 0.82945464, 0.15292002, 0.86088523, 0.43953843,\n",
       "       0.95521362, 0.93996216, 0.01396651, 0.08649688, 0.03420963,\n",
       "       0.76115094, 0.90820502, 0.04726537, 0.75897593, 0.62175517,\n",
       "       0.90826324, 0.9273171 , 0.59799247, 0.01787927, 0.90419682,\n",
       "       0.73887671, 0.63564306, 0.67309885, 0.07512967, 0.00196867,\n",
       "       0.84798813, 0.10857209, 0.97663857, 0.88806486, 0.9793919 ,\n",
       "       0.91117248, 0.03977771, 0.44603652, 0.58577284, 0.48377276,\n",
       "       0.05286462])"
      ]
     },
     "execution_count": 15,
     "metadata": {},
     "output_type": "execute_result"
    }
   ],
   "source": [
    "# ypredprob[rowindex,columnindex]\n",
    "ypredprob[:,1]    # class-1 probabilities"
   ]
  },
  {
   "cell_type": "code",
   "execution_count": 16,
   "id": "1c1a6929",
   "metadata": {},
   "outputs": [],
   "source": [
    "fpr,tpr,thresh = roc_curve(ytest,ypredprob[:,1])"
   ]
  },
  {
   "cell_type": "code",
   "execution_count": 17,
   "id": "f5bcd8de",
   "metadata": {},
   "outputs": [
    {
     "data": {
      "text/plain": [
       "array([0.        , 0.        , 0.        , 0.02857143, 0.02857143,\n",
       "       0.05714286, 0.05714286, 0.08571429, 0.08571429, 0.2       ,\n",
       "       0.2       , 0.25714286, 0.25714286, 0.28571429, 0.28571429,\n",
       "       0.42857143, 0.42857143, 1.        ])"
      ]
     },
     "execution_count": 17,
     "metadata": {},
     "output_type": "execute_result"
    }
   ],
   "source": [
    "fpr"
   ]
  },
  {
   "cell_type": "code",
   "execution_count": 18,
   "id": "5fd60b19",
   "metadata": {},
   "outputs": [
    {
     "data": {
      "text/plain": [
       "array([0.        , 0.02439024, 0.34146341, 0.34146341, 0.51219512,\n",
       "       0.51219512, 0.6097561 , 0.6097561 , 0.80487805, 0.80487805,\n",
       "       0.85365854, 0.85365854, 0.95121951, 0.95121951, 0.97560976,\n",
       "       0.97560976, 1.        , 1.        ])"
      ]
     },
     "execution_count": 18,
     "metadata": {},
     "output_type": "execute_result"
    }
   ],
   "source": [
    "tpr"
   ]
  },
  {
   "cell_type": "code",
   "execution_count": 19,
   "id": "7400549f",
   "metadata": {},
   "outputs": [
    {
     "data": {
      "text/plain": [
       "array([1.98486252e+00, 9.84862516e-01, 9.11172485e-01, 9.08263240e-01,\n",
       "       8.72739007e-01, 8.72408823e-01, 8.29221265e-01, 7.61150936e-01,\n",
       "       6.77521829e-01, 6.31680591e-01, 5.97992472e-01, 5.73450526e-01,\n",
       "       4.46036525e-01, 4.39538433e-01, 4.39016932e-01, 1.52920019e-01,\n",
       "       1.24928537e-01, 1.96866805e-03])"
      ]
     },
     "execution_count": 19,
     "metadata": {},
     "output_type": "execute_result"
    }
   ],
   "source": [
    "thresh"
   ]
  },
  {
   "cell_type": "code",
   "execution_count": 20,
   "id": "a0ae6cb0",
   "metadata": {},
   "outputs": [
    {
     "data": {
      "image/png": "[encoded data removed]",
      "text/plain": [
       "<Figure size 432x288 with 1 Axes>"
      ]
     },
     "metadata": {
      "needs_background": "light"
     },
     "output_type": "display_data"
    }
   ],
   "source": [
    "plt.plot(fpr,tpr)\n",
    "plt.xlabel('False positive rate')\n",
    "plt.ylabel('True positive rate')\n",
    "plt.title('ROC curve')\n",
    "plt.savefig('ROC_curve.png')"
   ]
  },
  {
   "cell_type": "code",
   "execution_count": null,
   "id": "a3e0fed3",
   "metadata": {},
   "outputs": [],
   "source": []
  }
 ],
 "metadata": {
  "kernelspec": {
   "display_name": "Python 3 (ipykernel)",
   "language": "python",
   "name": "python3"
  },
  "language_info": {
   "codemirror_mode": {
    "name": "ipython",
    "version": 3
   },
   "file_extension": ".py",
   "mimetype": "text/x-python",
   "name": "python",
   "nbconvert_exporter": "python",
   "pygments_lexer": "ipython3",
   "version": "3.9.7"
  }
 },
 "nbformat": 4,
 "nbformat_minor": 5
}
